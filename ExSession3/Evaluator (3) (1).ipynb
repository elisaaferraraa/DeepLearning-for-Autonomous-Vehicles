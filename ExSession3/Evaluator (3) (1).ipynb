{
  "cells": [
    {
      "cell_type": "code",
      "execution_count": 1,
      "metadata": {
        "id": "aEW8FsaTRaOo"
      },
      "outputs": [],
      "source": [
        "import numpy as np\n",
        "\n",
        "import torch\n",
        "from torch import nn\n",
        "from torch import optim\n",
        "import torch.nn.functional as F\n",
        "import torch.utils.data as utils\n",
        "from torchvision import datasets, transforms\n",
        "from torch.utils.data.sampler import SubsetRandomSampler\n",
        "import os\n",
        "import platform\n",
        "import pickle"
      ]
    },
    {
      "cell_type": "code",
      "execution_count": null,
      "metadata": {
        "id": "bJAZFldDTQRz"
      },
      "outputs": [],
      "source": [
        "from google.colab import drive\n",
        "drive.mount('/content/drive')"
      ]
    },
    {
      "cell_type": "code",
      "execution_count": null,
      "metadata": {
        "id": "dtBf2_UXTPVs"
      },
      "outputs": [],
      "source": [
        "!rm -r DLAV-2024\n",
        "!git clone https://github.com/vita-epfl/DLAV-2024.git\n",
        "path = os.getcwd() + '/DLAV-2024/homeworks/hw2/test_batch'"
      ]
    },
    {
      "cell_type": "code",
      "execution_count": 33,
      "metadata": {
        "id": "QB1xSP9nUZGQ"
      },
      "outputs": [],
      "source": [
        "# Set the variable to the location of the trained model\n",
        "model_path = 'drive/MyDrive/Colab Notebooks/CNN_MiniVGG_deeperfully.ckpt'"
      ]
    },
    {
      "cell_type": "code",
      "execution_count": 34,
      "metadata": {
        "id": "QEIcPZ4hT7fY"
      },
      "outputs": [],
      "source": [
        "# https://github.com/meng1994412/VGGNet_from_scratch/blob/master/pipeline/nn/conv/minivggnet.py\n",
        "# I took inspiration from the MiniVggNet implementation in the above link\n",
        "\n",
        "class MiniVGG(nn.Module):\n",
        "    def __init__(self, n_input_channels=3, n_output=10):\n",
        "        super(MiniVGG, self).__init__()\n",
        "        self.conv1 = nn.Conv2d(n_input_channels, 32, kernel_size=3, padding=1)\n",
        "        self.bn1 = nn.BatchNorm2d(32)\n",
        "        self.conv2 = nn.Conv2d(32, 32, kernel_size=3, padding=1)\n",
        "        self.bn2 = nn.BatchNorm2d(32)\n",
        "        self.pool1 = nn.MaxPool2d(kernel_size=2, stride=2)\n",
        "        self.dropout1 = nn.Dropout(0.25)\n",
        "\n",
        "        self.conv3 = nn.Conv2d(32, 64, kernel_size=3, padding=1)\n",
        "        self.bn3 = nn.BatchNorm2d(64)\n",
        "        self.conv4 = nn.Conv2d(64, 64, kernel_size=3, padding=1)\n",
        "        self.bn4 = nn.BatchNorm2d(64)\n",
        "        self.pool2 = nn.MaxPool2d(kernel_size=2, stride=2)\n",
        "        self.dropout2 = nn.Dropout(0.25)\n",
        "\n",
        "        self.fc1 = nn.Linear(64 * 8 * 8, 512)\n",
        "        self.bn5 = nn.BatchNorm1d(512)\n",
        "        self.dropout3 = nn.Dropout(0.5)\n",
        "        self.fc2 = nn.Linear(512, 256)\n",
        "        self.bn6 = nn.BatchNorm1d(256)\n",
        "        self.fc3 = nn.Linear(256, n_output)\n",
        "\n",
        "\n",
        "\n",
        "    def forward(self, x):\n",
        "        x = F.relu(self.bn1(self.conv1(x)))\n",
        "        x = self.pool1(F.relu(self.bn2(self.conv2(x))))\n",
        "        x = self.dropout1(x)\n",
        "\n",
        "        x = F.relu(self.bn3(self.conv3(x)))\n",
        "        x = self.pool2(F.relu(self.bn4(self.conv4(x))))\n",
        "        x = self.dropout2(x)\n",
        "\n",
        "        x = x.view(-1, 64 * 8 * 8)\n",
        "        x = F.relu(self.bn5(self.fc1(x)))\n",
        "        x = self.dropout3(x)\n",
        "        x = F.relu(self.bn6(self.fc2(x)))\n",
        "        x = self.dropout3(x)\n",
        "        x = self.fc3(x)\n",
        "        return x\n",
        "\n",
        "    def predict(self, x):\n",
        "        logits = self.forward(x)\n",
        "        return F.softmax(logits)\n"
      ]
    },
    {
      "cell_type": "code",
      "execution_count": 35,
      "metadata": {
        "id": "p5v7OgpDR4m2"
      },
      "outputs": [],
      "source": [
        "def predict_usingCNN(X):\n",
        "    #########################################################################\n",
        "    # TODO:                                                                 #\n",
        "    # - Load your saved model                                               #\n",
        "    # - Do the operation required to get the predictions                    #\n",
        "    # - Return predictions in a numpy array                                 #\n",
        "    # Note: For the predictions, you have to return the index of the max    #\n",
        "    # value                                                                 #\n",
        "    #########################################################################\n",
        "    # Load the model\n",
        "    #model = ConvNet()\n",
        "    model = MiniVGG()\n",
        "    model.load_state_dict(torch.load(model_path,map_location=torch.device('cpu')))\n",
        "    model.eval()\n",
        "    # Predict the output\n",
        "    y_pred = model.predict(X)\n",
        "    y_pred = torch.argmax(y_pred, dim=1).numpy()\n",
        "\n",
        "    #########################################################################\n",
        "    #                       END OF YOUR CODE                                #\n",
        "    #########################################################################\n",
        "    return y_pred\n"
      ]
    },
    {
      "cell_type": "code",
      "execution_count": 36,
      "metadata": {
        "id": "IGqVw4U3Sy21"
      },
      "outputs": [],
      "source": [
        "## Read DATA\n",
        "def load_pickle(f):\n",
        "    version = platform.python_version_tuple()\n",
        "    if version[0] == '2':\n",
        "        return  pickle.load(f)\n",
        "    elif version[0] == '3':\n",
        "        return  pickle.load(f, encoding='latin1')\n",
        "    raise ValueError(\"invalid python version: {}\".format(version))\n",
        "\n",
        "def load_CIFAR_batch(filename):\n",
        "  \"\"\" load single batch of cifar \"\"\"\n",
        "  with open(filename, 'rb') as f:\n",
        "    datadict = load_pickle(f)\n",
        "    X = datadict['data']\n",
        "    Y = datadict['labels']\n",
        "    X = X.reshape(10000, 3, 32, 32).astype(\"float\")\n",
        "    Y = np.array(Y)\n",
        "    return X, Y\n",
        "test_filename = path\n",
        "X,Y = load_CIFAR_batch(test_filename)"
      ]
    },
    {
      "cell_type": "code",
      "execution_count": 37,
      "metadata": {
        "colab": {
          "base_uri": "https://localhost:8080/"
        },
        "id": "qiRBbv7fR-DB",
        "outputId": "338e1199-209a-42c4-9057-6b849894788e"
      },
      "outputs": [
        {
          "output_type": "stream",
          "name": "stderr",
          "text": [
            "<ipython-input-34-a75a06d89ae1>:49: UserWarning: Implicit dimension choice for softmax has been deprecated. Change the call to include dim=X as an argument.\n",
            "  return F.softmax(logits)\n"
          ]
        },
        {
          "output_type": "stream",
          "name": "stdout",
          "text": [
            "CNN Accuracy= 0.851900\n"
          ]
        }
      ],
      "source": [
        "# Data Manipulation\n",
        "mean_pytorch = np.array([0.4914, 0.4822, 0.4465])\n",
        "std_pytorch = np.array([0.2023, 0.1994, 0.2010])\n",
        "X_pytorch = np.divide(np.subtract( X/255 , mean_pytorch[np.newaxis, :,np.newaxis,np.newaxis]), std_pytorch[np.newaxis, :,np.newaxis,np.newaxis])\n",
        "\n",
        "# Run Prediction and Evaluation\n",
        "prediction_cnn = predict_usingCNN(torch.from_numpy(X_pytorch).float())\n",
        "acc_cnn = sum(prediction_cnn == Y)/len(X_pytorch)\n",
        "print(\"CNN Accuracy= %f\"%(acc_cnn))"
      ]
    }
  ],
  "metadata": {
    "colab": {
      "provenance": []
    },
    "kernelspec": {
      "display_name": "Python 3",
      "name": "python3"
    },
    "language_info": {
      "codemirror_mode": {
        "name": "ipython",
        "version": 3
      },
      "file_extension": ".py",
      "mimetype": "text/x-python",
      "name": "python",
      "nbconvert_exporter": "python",
      "pygments_lexer": "ipython3",
      "version": "3.12.2"
    }
  },
  "nbformat": 4,
  "nbformat_minor": 0
}