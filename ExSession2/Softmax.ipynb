{
  "cells": [
    {
      "cell_type": "markdown",
      "metadata": {
        "id": "xJrRJLBS7DWn"
      },
      "source": [
        "# Softmax exercise\n",
        "\n",
        "We will implement a softmax classifier that is trained on the CIFAR10 dataset. The output is a model that is able to classify the input image into the 10 different classes of the CIFAR10 dataset.\n",
        "\n",
        "Complete and hand in this completed worksheet (including its outputs and any supporting code outside of the worksheet) with your assignment submission.\n",
        "\n",
        "You will:\n",
        "\n",
        "- implement a fully-vectorized **loss function** for the Softmax classifier\n",
        "- implement the fully-vectorized expression for its **analytic gradient**\n",
        "- use a validation set to **tune the learning rate** strength\n",
        "- **optimize** the loss function with **SGD**\n",
        "- **visualize** the final learned weights\n"
      ]
    },
    {
      "cell_type": "code",
      "source": [
        "from google.colab import drive\n",
        "drive.mount('/content/drive')"
      ],
      "metadata": {
        "id": "zAa2EJ9g48EN",
        "outputId": "aafb13d5-03ce-4dbd-c52f-db19e28cef4c",
        "colab": {
          "base_uri": "https://localhost:8080/"
        }
      },
      "execution_count": 2,
      "outputs": [
        {
          "output_type": "stream",
          "name": "stdout",
          "text": [
            "Mounted at /content/drive\n"
          ]
        }
      ]
    },
    {
      "cell_type": "code",
      "execution_count": 3,
      "metadata": {
        "id": "KQ8b6HtX7DWs"
      },
      "outputs": [],
      "source": [
        "import random\n",
        "import numpy as np\n",
        "import matplotlib.pyplot as plt\n",
        "import time\n",
        "import pickle\n",
        "from random import shuffle\n",
        "\n",
        "from six.moves import cPickle as pickle\n",
        "import numpy as np\n",
        "import os\n",
        "from imageio import imread\n",
        "import platform\n",
        "from torchvision import datasets\n",
        "\n",
        "\n",
        "%matplotlib inline\n",
        "plt.rcParams['figure.figsize'] = (10.0, 8.0) # set default size of plots\n",
        "plt.rcParams['image.interpolation'] = 'nearest'\n",
        "plt.rcParams['image.cmap'] = 'gray'\n",
        "\n",
        "# for auto-reloading extenrnal modules\n",
        "# see http://stackoverflow.com/questions/1907993/autoreload-of-modules-in-ipython\n",
        "%load_ext autoreload\n",
        "%autoreload 2"
      ]
    },
    {
      "cell_type": "markdown",
      "metadata": {
        "id": "pmv_iR7VumNQ"
      },
      "source": [
        "Load the dataset"
      ]
    },
    {
      "cell_type": "code",
      "execution_count": 4,
      "metadata": {
        "id": "vW0orz8Z7O0e",
        "colab": {
          "base_uri": "https://localhost:8080/"
        },
        "outputId": "a7e14798-8f72-412b-c47f-b226fef7163a"
      },
      "outputs": [
        {
          "output_type": "stream",
          "name": "stdout",
          "text": [
            "Downloading https://www.cs.toronto.edu/~kriz/cifar-10-python.tar.gz to data/cifar-10-python.tar.gz\n"
          ]
        },
        {
          "output_type": "stream",
          "name": "stderr",
          "text": [
            "100%|██████████| 170498071/170498071 [00:02<00:00, 78326143.10it/s]\n"
          ]
        },
        {
          "output_type": "stream",
          "name": "stdout",
          "text": [
            "Extracting data/cifar-10-python.tar.gz to data/\n",
            "Train data shape:  (49000, 3073)\n",
            "Train labels shape:  (49000,)\n",
            "Validation data shape:  (1000, 3073)\n",
            "Validation labels shape:  (1000,)\n"
          ]
        }
      ],
      "source": [
        "def load_pickle(f):\n",
        "    version = platform.python_version_tuple()\n",
        "    if version[0] == '2':\n",
        "        return  pickle.load(f)\n",
        "    elif version[0] == '3':\n",
        "        return  pickle.load(f, encoding='latin1')\n",
        "    raise ValueError(\"invalid python version: {}\".format(version))\n",
        "\n",
        "def load_CIFAR_batch(filename):\n",
        "  \"\"\" load single batch of cifar \"\"\"\n",
        "  with open(filename, 'rb') as f:\n",
        "    datadict = load_pickle(f)\n",
        "    X = datadict['data']\n",
        "    Y = datadict['labels']\n",
        "    X = X.reshape(10000, 3, 32, 32).transpose(0,2,3,1).astype(\"float\")\n",
        "    Y = np.array(Y)\n",
        "    return X, Y\n",
        "\n",
        "def load_CIFAR10(ROOT):\n",
        "  \"\"\" load all of cifar \"\"\"\n",
        "  xs = []\n",
        "  ys = []\n",
        "  datasets.CIFAR10(\n",
        "        root=\"data/\", train=True,\n",
        "        download=True, transform=None,\n",
        "    )\n",
        "  for b in range(1,6):\n",
        "    f = os.path.join(ROOT, 'data_batch_%d' % (b, ))\n",
        "    X, Y = load_CIFAR_batch(f)\n",
        "    xs.append(X)\n",
        "    ys.append(Y)\n",
        "  Xtr = np.concatenate(xs)\n",
        "  Ytr = np.concatenate(ys)\n",
        "  del X, Y\n",
        "  return Xtr, Ytr\n",
        "\n",
        "\n",
        "def get_CIFAR10_data(num_training=49000, num_validation=1000, num_test=1000):\n",
        "    \"\"\"\n",
        "    Load the CIFAR-10 dataset from disk and perform preprocessing to prepare\n",
        "    it for the linear classifier.\n",
        "    \"\"\"\n",
        "    # Load the raw CIFAR-10 data\n",
        "    cifar10_dir = 'data/cifar-10-batches-py'\n",
        "    X_train, y_train = load_CIFAR10(cifar10_dir)\n",
        "\n",
        "    # subsample the data\n",
        "    mask = list(range(num_training, num_training + num_validation))\n",
        "    X_val = X_train[mask]\n",
        "    y_val = y_train[mask]\n",
        "    mask = list(range(num_training))\n",
        "    X_train = X_train[mask]\n",
        "    y_train = y_train[mask]\n",
        "\n",
        "    # Normalize the data: subtract the mean image and divide by variance\n",
        "    mean = np.array([0.4914, 0.4822, 0.4465])\n",
        "    std = np.array([0.2023, 0.1994, 0.2010])\n",
        "    X_train = np.divide(np.subtract( X_train/255 , mean[np.newaxis,np.newaxis,:]), std[np.newaxis,np.newaxis,:])\n",
        "    X_val = np.divide(np.subtract( X_val/255 , mean[np.newaxis,np.newaxis,:]), std[np.newaxis,np.newaxis,:])\n",
        "\n",
        "    # Preprocessing: reshape the image data into rows\n",
        "    X_train = np.reshape(X_train, (X_train.shape[0], -1))\n",
        "    X_val = np.reshape(X_val, (X_val.shape[0], -1))\n",
        "\n",
        "    # add bias dimension and transform into columns\n",
        "    X_train = np.hstack([X_train, np.ones((X_train.shape[0], 1))])\n",
        "    X_val = np.hstack([X_val, np.ones((X_val.shape[0], 1))])\n",
        "\n",
        "    return X_train, y_train, X_val, y_val\n",
        "\n",
        "\n",
        "# Invoke the above function to get our data.\n",
        "X_train, y_train, X_val, y_val = get_CIFAR10_data()\n",
        "print('Train data shape: ', X_train.shape)\n",
        "print('Train labels shape: ', y_train.shape)\n",
        "print('Validation data shape: ', X_val.shape)\n",
        "print('Validation labels shape: ', y_val.shape)"
      ]
    },
    {
      "cell_type": "markdown",
      "metadata": {
        "id": "vWxBSsLD7DWv"
      },
      "source": [
        "## Softmax Classifier\n",
        "\n",
        "Here, you implement **softmax_loss_vectorized**. This function just returns the loss and gradient after applying the softmax function.\n"
      ]
    },
    {
      "cell_type": "code",
      "execution_count": 5,
      "metadata": {
        "id": "gE4l0Tos2wNL"
      },
      "outputs": [],
      "source": [
        "def softmax_loss_vectorized(W, X, y):\n",
        "    \"\"\"\n",
        "    Softmax loss function, vectorized version.\n",
        "\n",
        "    Inputs have dimension D, there are C classes, and we operate on minibatches\n",
        "    of N examples.\n",
        "\n",
        "    Inputs:\n",
        "    - W: A numpy array of shape (D, C) containing weights.\n",
        "    - X: A numpy array of shape (N, D) containing a minibatch of data.\n",
        "    - y: A numpy array of shape (N,) containing training labels; y[i] = c means\n",
        "    that X[i] has label c, where 0 <= c < C.\n",
        "\n",
        "    Returns a tuple of:\n",
        "    - loss as single float\n",
        "    - gradient with respect to weights W; an array of same shape as W\n",
        "    \"\"\"\n",
        "    # Initialize the loss and gradient to zero.\n",
        "    loss = 0.0\n",
        "    dW = np.zeros_like(W)\n",
        "\n",
        "    #############################################################################\n",
        "    # TODO: Compute the softmax loss and its gradient using no explicit loops.  #\n",
        "    # Store the loss in loss and the gradient in dW. If you are not careful     #\n",
        "    # here, it is easy to run into numeric instability.                         #\n",
        "\n",
        "    #scores\n",
        "    scores = X.dot(W)  #score is what I obtain from W*X, I want to maximize the correct one\n",
        "        # dimension (N,C)\n",
        "\n",
        "    #avoid numerical instability\n",
        "    scores -= np.max(scores, axis=1, keepdims=True)\n",
        "        # dimension (N,C)\n",
        "        # By subtracting the maximum values from the scores, we ensure that the largest score\n",
        "        # is zero, which prevents the exponential function from overflowing.\n",
        "\n",
        "    #softmax scores\n",
        "    softmax_scores = np.exp(scores) / np.sum(np.exp(scores), axis=1, keepdims=True)\n",
        "        # axis = 1 means that I want to sum over the columns, so I obtain a row vector with the sum of the elements of each row\n",
        "        # dividing is made between vectors so elementwise\n",
        "        # dimension (N,C)\n",
        "\n",
        "    #loss: negative log likelihood: shape are (N,)\n",
        "    N = X.shape[0]\n",
        "    loss = -np.sum(np.log(softmax_scores[np.arange(N), y])) / N\n",
        "        # softmax_scores[np.arange(N), y] is a vector of length N, where each element is the selected one from each row of the\n",
        "            # softmax_scores array, corresponding to the correct class for each sample in the batch.\n",
        "        # division by N to get the average loss over the batch\n",
        "        # dimension pof loss is (1,), it is a float then\n",
        "\n",
        "\n",
        "    #gradient --> see cell below for formulas\n",
        "    softmax_scores[np.arange(N), y] -= 1  #gradient w.r.t. softmax scores\n",
        "    dW = X.T.dot(softmax_scores) / N  #gradient w.r.t. weights W\n",
        "\n",
        "\n",
        "    #############################################################################\n",
        "    #                          END OF YOUR CODE                                 #\n",
        "    #############################################################################\n",
        "\n",
        "    return loss, dW"
      ]
    },
    {
      "cell_type": "markdown",
      "metadata": {
        "id": "hQs8RkpB2wNL"
      },
      "source": [
        "# Theory I wrote to implement these formulas\n",
        "  ## Softmax Function\n",
        "  The softmax function converts logits (also known as scores) into probabilities. For a given class \\( j \\) and a single input vector \\( \\mathbf{x} \\), the softmax function is defined as:\n",
        "\n",
        "  $$\n",
        "  \\text{softmax}(z)_j = \\frac{e^{z_j}}{\\sum_{k=1}^{C} e^{z_k}}\n",
        "  $$\n",
        "\n",
        "  where $ \\mathbf{z} = W^T \\mathbf{x} $ is the vector of logits for all classes and C is the total number of classes.\n",
        "\n",
        "  ## Softmax Loss (Cross-Entropy Loss)\n",
        "  For a single example, the cross-entropy loss for the correct class y is given by:\n",
        "\n",
        "  $$ L = -\\log(\\text{softmax}(z)_y) = -\\log\\left(\\frac{e^{z_y}}{\\sum_{k=1}^{C} e^{z_k}}\\right)  $$\n",
        "\n",
        "  ## Derivative of the Softmax Function\n",
        "  To compute the gradient of the loss with respect to the logits $ \\mathbf{z} $, we first need the derivative of the softmax function. Let's denote the softmax probabilities as $ p_j = \\text{softmax}(z)_j $. The derivative of $ p_j $ with respect to z_i is:\n",
        "\n",
        "  $$ \\frac{\\partial p_j}{\\partial z_i} = \\begin{cases} p_j (1 - p_i) & \\text{if } i = j, \\\\ -p_i p_j & \\text{otherwise}. \\end{cases} $$\n",
        "\n",
        "  ## Derivative of the Cross-Entropy Loss\n",
        "  The gradient of the loss \\( L \\) with respect to the logits \\( \\mathbf{z} \\) for a single example is:\n",
        "\n",
        "  $$ \\frac{\\partial L}{\\partial z_i} = \\begin{cases} p_i - 1 & \\text{if } i = y, \\\\ p_i & \\text{otherwise}. \\end{cases} $$\n",
        "\n",
        "  This formula comes from applying the chain rule to the loss function, considering how the loss changes as the logits change.\n",
        "\n",
        "  ## Gradient with Respect to Weights\n",
        "  Finally, the gradient of the loss with respect to the weights  W  is found by applying the chain rule once more, considering how the logits \\$\\mathbf{z} = W^T \\mathbf{x} $ depend on W :\n",
        "\n",
        "  $$ \\frac{\\partial L}{\\partial W} = \\frac{\\partial L}{\\partial \\mathbf{z}} \\frac{\\partial \\mathbf{z}}{\\partial W} $$\n",
        "\n",
        "  Given $ \\mathbf{z} = W^T \\mathbf{x} $, we have $ \\frac{\\partial \\mathbf{z}}{\\partial W} = \\mathbf{x} $ (since $ \\mathbf{z} $ is linear in $ W $). Thus, for each class  j\n",
        "\n",
        "  $$ \\frac{\\partial L}{\\partial W_{:,j}} = (p_j - 1(y=j)) \\mathbf{x} $$\n",
        "\n",
        "  where $ 1(y=j) $ is the indicator function, equal to 1 if $ y = j $ and 0 otherwise.\n"
      ]
    },
    {
      "cell_type": "markdown",
      "metadata": {
        "id": "DtMJHoylvbEx"
      },
      "source": [
        "## This is the Softmax Linear Classifier.\n",
        "### Implement SGD in the train function.\n",
        "### Write the predict function to evaluate the performance on both the training and validation set\n",
        "### Do not touch the loss function. You already defined it above."
      ]
    },
    {
      "cell_type": "code",
      "execution_count": 6,
      "metadata": {
        "id": "nuhecHcsvJU7"
      },
      "outputs": [],
      "source": [
        "class LinearClassifier(object):\n",
        "\n",
        "    def __init__(self):\n",
        "        self.W = None\n",
        "\n",
        "    def train(self, X, y, learning_rate=1e-3, num_iters=100,\n",
        "            batch_size=200, verbose=False):\n",
        "        \"\"\"\n",
        "        Train this linear classifier using stochastic gradient descent.\n",
        "\n",
        "        Inputs:\n",
        "        - X: A numpy array of shape (N, D) containing training data; there are N\n",
        "            training samples each of dimension D.\n",
        "        - y: A numpy array of shape (N,) containing training labels; y[i] = c\n",
        "            means that X[i] has label 0 <= c < C for C classes.\n",
        "        - learning_rate: (float) learning rate for optimization.\n",
        "        - num_iters: (integer) number of steps to take when optimizing\n",
        "        - batch_size: (integer) number of training examples to use at each step.\n",
        "        - verbose: (boolean) If true, print progress during optimization.\n",
        "\n",
        "        Outputs:\n",
        "        A list containing the value of the loss function at each training iteration.\n",
        "        \"\"\"\n",
        "        num_train, dim = X.shape\n",
        "        num_classes = np.max(y) + 1 # assume y takes values 0...K-1 where K is number of classes\n",
        "        if self.W is None:\n",
        "            # lazily initialize W\n",
        "            self.W = 0.001 * np.random.randn(dim, num_classes)\n",
        "\n",
        "        # Run stochastic gradient descent to optimize W\n",
        "        loss_history = []\n",
        "        for it in range(num_iters):\n",
        "            #########################################################################\n",
        "            # TODO:                                                                 #\n",
        "            # Sample batch_size elements from the training data and their           #\n",
        "            # corresponding labels to use in this round of gradient descent.\n",
        "            # Store the data in X_batch and their corresponding labels in           #\n",
        "            # y_batch; after sampling X_batch should have shape (dim, batch_size)   #\n",
        "            # and y_batch should have shape (batch_size,)\n",
        "            indices = np.random.choice(num_train, batch_size, replace=True)\n",
        "            X_batch = X[indices,:]\n",
        "            y_batch = y[indices]\n",
        "\n",
        "            # Hint: Use np.random.choice to generate indices. Sampling with         #\n",
        "            # replacement is faster than sampling without replacement.              #\n",
        "            #########################################################################\n",
        "\n",
        "            # evaluate loss and gradient\n",
        "            loss, grad = self.loss(X_batch, y_batch)\n",
        "            loss_history.append(loss)\n",
        "\n",
        "            #########################################################################\n",
        "            # TODO:                                                                 #\n",
        "            # Update the weights using the gradient and the learning rate.          #\n",
        "            self.W -= learning_rate * grad\n",
        "            #########################################################################\n",
        "            #                       END OF YOUR CODE                                #\n",
        "            #########################################################################\n",
        "\n",
        "            if verbose and it % 100 == 0:\n",
        "                print('iteration %d / %d: loss %f' % (it, num_iters, loss))\n",
        "\n",
        "        return loss_history\n",
        "\n",
        "    def predict(self, X):\n",
        "        \"\"\"\n",
        "        Use the trained weights of this linear classifier to predict labels for\n",
        "        data points.\n",
        "\n",
        "        Inputs:\n",
        "        - X: A numpy array of shape (N, D) containing training data; there are N\n",
        "        training samples each of dimension D.\n",
        "\n",
        "        Returns:\n",
        "        - y_pred: Predicted labels for the data in X. y_pred is a 1-dimensional\n",
        "        array of length N, and each element is an integer giving the predicted\n",
        "        class.\n",
        "        \"\"\"\n",
        "        y_pred = np.zeros(X.shape[0])\n",
        "        ###########################################################################\n",
        "        # TODO:                                                                   #\n",
        "        # Implement this method. Store the predicted labels in y_pred.            #\n",
        "        y_pred = np.argmax(X.dot(self.W), axis=1)\n",
        "\n",
        "        #                           END OF YOUR CODE                              #\n",
        "        ###########################################################################\n",
        "        return y_pred\n",
        "\n",
        "    def loss(self, X_batch, y_batch):\n",
        "        \"\"\"\n",
        "        Compute the loss function and its derivative.\n",
        "        Subclasses will override this.\n",
        "\n",
        "        Inputs:\n",
        "        - X_batch: A numpy array of shape (N, D) containing a minibatch of N\n",
        "            data points; each point has dimension D.\n",
        "        - y_batch: A numpy array of shape (N,) containing labels for the minibatch.\n",
        "\n",
        "        Returns: A tuple containing:\n",
        "        - loss as a single float\n",
        "        - gradient with respect to self.W; an array of the same shape as W\n",
        "        \"\"\"\n",
        "        raise NotImplementedError(\"Subclasses must override loss method\")\n",
        "\n",
        "\n"
      ]
    },
    {
      "cell_type": "markdown",
      "metadata": {
        "id": "Dzy_rjabwTUY"
      },
      "source": [
        "Finally, the softmax class is inherited from LinearClassifier and uses the softmax_loss_vectorized function as its loss:"
      ]
    },
    {
      "cell_type": "code",
      "execution_count": 7,
      "metadata": {
        "id": "GTqa5eihvOvz"
      },
      "outputs": [],
      "source": [
        "class Softmax(LinearClassifier):\n",
        "    \"\"\" A subclass that uses the Softmax + Cross-entropy loss function \"\"\"\n",
        "\n",
        "    def loss(self, X_batch, y_batch):\n",
        "        return softmax_loss_vectorized(self.W, X_batch, y_batch)"
      ]
    },
    {
      "cell_type": "code",
      "execution_count": 8,
      "metadata": {
        "id": "BomGJP517DWv",
        "colab": {
          "base_uri": "https://localhost:8080/"
        },
        "outputId": "beb6ce42-9060-406f-ccaa-74f7cfa105a8"
      },
      "outputs": [
        {
          "output_type": "stream",
          "name": "stdout",
          "text": [
            "vectorized loss: 2.303676e+00 computed in 0.048428s\n"
          ]
        }
      ],
      "source": [
        "W = np.random.randn(3073, 10) * 0.0001\n",
        "tic = time.time()\n",
        "loss_vectorized, grad_vectorized = softmax_loss_vectorized(W, X_val, y_val)\n",
        "toc = time.time()\n",
        "print('vectorized loss: %e computed in %fs' % (loss_vectorized, toc - tic))"
      ]
    },
    {
      "cell_type": "code",
      "execution_count": 15,
      "metadata": {
        "id": "H6Pzyyf47DWw",
        "colab": {
          "base_uri": "https://localhost:8080/"
        },
        "outputId": "b37767fc-ae2f-4e68-c3a1-dd0aaa1d6091"
      },
      "outputs": [
        {
          "output_type": "stream",
          "name": "stdout",
          "text": [
            "lr 4.000000e-06 train accuracy: 0.244694 val accuracy: 0.248000\n",
            "lr 2.669474e-04 train accuracy: 0.385143 val accuracy: 0.390000\n",
            "lr 5.298947e-04 train accuracy: 0.395204 val accuracy: 0.388000\n",
            "lr 7.928421e-04 train accuracy: 0.405776 val accuracy: 0.399000\n",
            "lr 1.055789e-03 train accuracy: 0.409327 val accuracy: 0.394000\n",
            "lr 1.318737e-03 train accuracy: 0.410918 val accuracy: 0.402000\n",
            "lr 1.581684e-03 train accuracy: 0.415510 val accuracy: 0.406000\n",
            "lr 1.844632e-03 train accuracy: 0.416000 val accuracy: 0.402000\n",
            "lr 2.107579e-03 train accuracy: 0.417388 val accuracy: 0.406000\n",
            "lr 2.370526e-03 train accuracy: 0.421061 val accuracy: 0.412000\n",
            "lr 2.633474e-03 train accuracy: 0.416327 val accuracy: 0.398000\n",
            "lr 2.896421e-03 train accuracy: 0.417429 val accuracy: 0.391000\n",
            "lr 3.159368e-03 train accuracy: 0.421735 val accuracy: 0.416000\n",
            "lr 3.422316e-03 train accuracy: 0.415286 val accuracy: 0.408000\n",
            "lr 3.685263e-03 train accuracy: 0.421673 val accuracy: 0.409000\n",
            "lr 3.948211e-03 train accuracy: 0.421143 val accuracy: 0.392000\n",
            "lr 4.211158e-03 train accuracy: 0.423653 val accuracy: 0.408000\n",
            "lr 4.474105e-03 train accuracy: 0.421224 val accuracy: 0.405000\n",
            "lr 4.737053e-03 train accuracy: 0.423714 val accuracy: 0.410000\n",
            "lr 5.000000e-03 train accuracy: 0.425755 val accuracy: 0.405000\n",
            " \n",
            "\n",
            "lr 4.000000e-06 train accuracy: 0.244694 val accuracy: 0.248000\n",
            "lr 2.669474e-04 train accuracy: 0.385143 val accuracy: 0.390000\n",
            "lr 5.298947e-04 train accuracy: 0.395204 val accuracy: 0.388000\n",
            "lr 7.928421e-04 train accuracy: 0.405776 val accuracy: 0.399000\n",
            "lr 1.055789e-03 train accuracy: 0.409327 val accuracy: 0.394000\n",
            "lr 1.318737e-03 train accuracy: 0.410918 val accuracy: 0.402000\n",
            "lr 1.581684e-03 train accuracy: 0.415510 val accuracy: 0.406000\n",
            "lr 1.844632e-03 train accuracy: 0.416000 val accuracy: 0.402000\n",
            "lr 2.107579e-03 train accuracy: 0.417388 val accuracy: 0.406000\n",
            "lr 2.370526e-03 train accuracy: 0.421061 val accuracy: 0.412000\n",
            "lr 2.633474e-03 train accuracy: 0.416327 val accuracy: 0.398000\n",
            "lr 2.896421e-03 train accuracy: 0.417429 val accuracy: 0.391000\n",
            "lr 3.159368e-03 train accuracy: 0.421735 val accuracy: 0.416000\n",
            "lr 3.422316e-03 train accuracy: 0.415286 val accuracy: 0.408000\n",
            "lr 3.685263e-03 train accuracy: 0.421673 val accuracy: 0.409000\n",
            "lr 3.948211e-03 train accuracy: 0.421143 val accuracy: 0.392000\n",
            "lr 4.211158e-03 train accuracy: 0.423653 val accuracy: 0.408000\n",
            "lr 4.474105e-03 train accuracy: 0.421224 val accuracy: 0.405000\n",
            "lr 4.737053e-03 train accuracy: 0.423714 val accuracy: 0.410000\n",
            "lr 5.000000e-03 train accuracy: 0.425755 val accuracy: 0.405000\n",
            "best validation accuracy achieved during cross-validation: 0.416000\n"
          ]
        }
      ],
      "source": [
        "# Use the validation set to tune hyperparameters (learning rate).\n",
        "# You should experiment with different ranges for the learning\n",
        "# rates; if you are careful you should be able to\n",
        "# get a classification accuracy of over 0.35 on the validation set.\n",
        "results = {}\n",
        "best_val = -1\n",
        "best_softmax = None\n",
        "learning_rates = [4e-6, 5e-3]\n",
        "\n",
        "################################################################################\n",
        "# TODO:                                                                        #\n",
        "# Use the validation set to set the learning.                                  #\n",
        "# Save the best trained softmax classifer in best_softmax.                     #\n",
        "################################################################################\n",
        "best_softmax = Softmax()\n",
        "\n",
        "for lr in np.linspace(learning_rates[0], learning_rates[1], num=20):\n",
        "    softmax = Softmax()\n",
        "    softmax.train(X_train, y_train, learning_rate=lr, num_iters=1500, verbose=False)\n",
        "    y_train_pred = softmax.predict(X_train)\n",
        "    train_accuracy = np.mean(y_train == y_train_pred) #mean of the boolean array 1 is if the prediction is correct\n",
        "    y_val_pred = softmax.predict(X_val)\n",
        "    val_accuracy = np.mean(y_val == y_val_pred)\n",
        "    results[lr] = (train_accuracy, val_accuracy)\n",
        "    if val_accuracy > best_val:\n",
        "        best_val = val_accuracy\n",
        "        best_softmax = softmax\n",
        "    print('lr %e train accuracy: %f val accuracy: %f' % (lr, train_accuracy, val_accuracy))\n",
        "\n",
        "print(\" \\n\")\n",
        "################################################################################\n",
        "#                              END OF YOUR CODE                                #\n",
        "################################################################################\n",
        "\n",
        "# Print out results.\n",
        "for lr in sorted(results):\n",
        "    train_accuracy, val_accuracy = results[lr]\n",
        "    print('lr %e train accuracy: %f val accuracy: %f' % (\n",
        "                lr, train_accuracy, val_accuracy))\n",
        "\n",
        "print('best validation accuracy achieved during cross-validation: %f' % best_val)"
      ]
    },
    {
      "cell_type": "code",
      "execution_count": 16,
      "metadata": {
        "id": "Vpj-_mvS7DWx",
        "colab": {
          "base_uri": "https://localhost:8080/"
        },
        "outputId": "20b2f045-dc51-4127-ff62-aec5ec66d3d8"
      },
      "outputs": [
        {
          "output_type": "stream",
          "name": "stdout",
          "text": [
            "softmax on raw pixels final test set accuracy: 0.416000\n"
          ]
        }
      ],
      "source": [
        "# Evaluate the best softmax on val set\n",
        "y_val_pred = best_softmax.predict(X_val)\n",
        "val_accuracy = np.mean(y_val == y_val_pred)\n",
        "print('softmax on raw pixels final test set accuracy: %f' % (val_accuracy, ))"
      ]
    },
    {
      "cell_type": "markdown",
      "metadata": {
        "id": "CI4FL2_a7DWx"
      },
      "source": [
        "Save the best_softmax weights using pickle:"
      ]
    },
    {
      "cell_type": "code",
      "execution_count": 17,
      "metadata": {
        "id": "U4uK5bgB7DWy"
      },
      "outputs": [],
      "source": [
        "with open('drive/MyDrive/Colab Notebooks/softmax_weights.pkl', 'wb') as f:\n",
        "    pickle.dump(best_softmax.W, f)\n"
      ]
    },
    {
      "cell_type": "markdown",
      "metadata": {
        "id": "XrQpxEbY7DWz"
      },
      "source": [
        "Load the best_softmax weights using pickle:"
      ]
    },
    {
      "cell_type": "code",
      "execution_count": 18,
      "metadata": {
        "id": "P1VkRfIl7DWz"
      },
      "outputs": [],
      "source": [
        "with open('drive/MyDrive/Colab Notebooks/softmax_weights.pkl', 'rb') as f:\n",
        "    W = pickle.load(f)\n",
        "new_softmax = Softmax()\n",
        "new_softmax.W = W.copy()"
      ]
    },
    {
      "cell_type": "markdown",
      "metadata": {
        "id": "2W7b80F_xkWj"
      },
      "source": [
        "Below is the code to visualize the weights learned for different classes. Try to notice the interesting patterns."
      ]
    },
    {
      "cell_type": "code",
      "execution_count": 19,
      "metadata": {
        "id": "NTkVGxZS7DWz",
        "colab": {
          "base_uri": "https://localhost:8080/",
          "height": 528
        },
        "outputId": "e0f497cd-d758-4495-8ee9-000209b0a2c0"
      },
      "outputs": [
        {
          "output_type": "display_data",
          "data": {
            "text/plain": [
              "<Figure size 1000x800 with 10 Axes>"
            ],
            "image/png": "[encoded data removed]"
          },
          "metadata": {}
        }
      ],
      "source": [
        "# Visualize the learned weights for each class\n",
        "w = best_softmax.W[:-1,:] # strip out the bias\n",
        "w = w.reshape(32, 32, 3, 10)\n",
        "\n",
        "w_min, w_max = np.min(w), np.max(w)\n",
        "\n",
        "classes = ['plane', 'car', 'bird', 'cat', 'deer', 'dog', 'frog', 'horse', 'ship', 'truck']\n",
        "for i in range(10):\n",
        "    plt.subplot(2, 5, i + 1)\n",
        "\n",
        "    # Rescale the weights to be between 0 and 255\n",
        "    wimg = 255.0 * (w[:, :, :, i].squeeze() - w_min) / (w_max - w_min)\n",
        "    plt.imshow(wimg.astype('uint8'))\n",
        "    plt.axis('off')\n",
        "    plt.title(classes[i])"
      ]
    }
  ],
  "metadata": {
    "colab": {
      "provenance": []
    },
    "kernelspec": {
      "display_name": "Python 3",
      "language": "python",
      "name": "python3"
    },
    "language_info": {
      "codemirror_mode": {
        "name": "ipython",
        "version": 3
      },
      "file_extension": ".py",
      "mimetype": "text/x-python",
      "name": "python",
      "nbconvert_exporter": "python",
      "pygments_lexer": "ipython3",
      "version": "3.12.2"
    }
  },
  "nbformat": 4,
  "nbformat_minor": 0
}